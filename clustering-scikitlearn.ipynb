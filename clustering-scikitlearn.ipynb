{
 "cells": [
  {
   "cell_type": "markdown",
   "metadata": {},
   "source": [
    "# DBSCAN clustering to reduce spatial data set size\n",
    "\n",
    "This notebook reduces the size of a spatial data set by clustering with DBSCAN. More info: http://geoffboeing.com/2014/08/visualizing-summer-travels/"
   ]
  },
  {
   "cell_type": "code",
   "execution_count": 1,
   "metadata": {
    "collapsed": false
   },
   "outputs": [],
   "source": [
    "# magic command to display matplotlib plots inline within the ipython notebook webpage\n",
    "%matplotlib inline\n",
    "\n",
    "# import necessary modules\n",
    "import pandas as pd, numpy as np, matplotlib.pyplot as plt\n",
    "from time import time\n",
    "from sklearn.cluster import DBSCAN\n",
    "from sklearn import metrics\n",
    "from geopy.distance import great_circle"
   ]
  },
  {
   "cell_type": "code",
   "execution_count": 2,
   "metadata": {
    "collapsed": false
   },
   "outputs": [
    {
     "data": {
      "text/html": [
       "<div>\n",
       "<table border=\"1\" class=\"dataframe\">\n",
       "  <thead>\n",
       "    <tr style=\"text-align: right;\">\n",
       "      <th></th>\n",
       "      <th>lat</th>\n",
       "      <th>lon</th>\n",
       "      <th>date</th>\n",
       "      <th>city</th>\n",
       "      <th>country</th>\n",
       "    </tr>\n",
       "  </thead>\n",
       "  <tbody>\n",
       "    <tr>\n",
       "      <th>0</th>\n",
       "      <td>51.481292</td>\n",
       "      <td>-0.451011</td>\n",
       "      <td>05/14/2014 09:07</td>\n",
       "      <td>West Drayton</td>\n",
       "      <td>United Kingdom</td>\n",
       "    </tr>\n",
       "    <tr>\n",
       "      <th>1</th>\n",
       "      <td>51.474005</td>\n",
       "      <td>-0.450999</td>\n",
       "      <td>05/14/2014 09:22</td>\n",
       "      <td>Hounslow</td>\n",
       "      <td>United Kingdom</td>\n",
       "    </tr>\n",
       "    <tr>\n",
       "      <th>2</th>\n",
       "      <td>51.478199</td>\n",
       "      <td>-0.446081</td>\n",
       "      <td>05/14/2014 10:51</td>\n",
       "      <td>Hounslow</td>\n",
       "      <td>United Kingdom</td>\n",
       "    </tr>\n",
       "    <tr>\n",
       "      <th>3</th>\n",
       "      <td>51.478199</td>\n",
       "      <td>-0.446081</td>\n",
       "      <td>05/14/2014 11:24</td>\n",
       "      <td>Hounslow</td>\n",
       "      <td>United Kingdom</td>\n",
       "    </tr>\n",
       "    <tr>\n",
       "      <th>4</th>\n",
       "      <td>51.474146</td>\n",
       "      <td>-0.451562</td>\n",
       "      <td>05/14/2014 11:38</td>\n",
       "      <td>Hounslow</td>\n",
       "      <td>United Kingdom</td>\n",
       "    </tr>\n",
       "  </tbody>\n",
       "</table>\n",
       "</div>"
      ],
      "text/plain": [
       "         lat       lon              date          city         country\n",
       "0  51.481292 -0.451011  05/14/2014 09:07  West Drayton  United Kingdom\n",
       "1  51.474005 -0.450999  05/14/2014 09:22      Hounslow  United Kingdom\n",
       "2  51.478199 -0.446081  05/14/2014 10:51      Hounslow  United Kingdom\n",
       "3  51.478199 -0.446081  05/14/2014 11:24      Hounslow  United Kingdom\n",
       "4  51.474146 -0.451562  05/14/2014 11:38      Hounslow  United Kingdom"
      ]
     },
     "execution_count": 2,
     "metadata": {},
     "output_type": "execute_result"
    }
   ],
   "source": [
    "# load the data set\n",
    "df = pd.read_csv('data/summer-travel-gps-full.csv')\n",
    "coordinates = df.as_matrix(columns=['lon', 'lat'])\n",
    "df.head()"
   ]
  },
  {
   "cell_type": "code",
   "execution_count": 3,
   "metadata": {
    "collapsed": false
   },
   "outputs": [
    {
     "name": "stdout",
     "output_type": "stream",
     "text": [
      "Estimated number of clusters: 147\n",
      "Silhouette coefficient: 0.833\n",
      "Process took 2.53 seconds\n"
     ]
    }
   ],
   "source": [
    "# Compute DBSCAN\n",
    "# eps is the physical distance from each point that forms its neighborhood\n",
    "# min_samples is the min cluster size, otherwise it's noise - set to 1 so we get no noise\n",
    "start_time = time()\n",
    "db = DBSCAN(eps=.01, min_samples=1, algorithm='ball_tree', metric='haversine').fit(coordinates)\n",
    "labels = db.labels_\n",
    "\n",
    "# number of clusters in labels, ignoring noise if present\n",
    "num_clusters = len(set(labels)) - (1 if -1 in labels else 0)\n",
    "\n",
    "print('Estimated number of clusters: {}'.format(num_clusters))\n",
    "print('Silhouette coefficient: {:0.03f}'.format(metrics.silhouette_score(coordinates, labels)))\n",
    "print('Process took {:.02f} seconds'.format(time()-start_time))"
   ]
  },
  {
   "cell_type": "code",
   "execution_count": 4,
   "metadata": {
    "collapsed": false
   },
   "outputs": [],
   "source": [
    "# return the coordinates of the centroid of a numpy array of coordinate points\n",
    "def get_centroid(points):\n",
    "    n = points.shape[0]\n",
    "    sum_lon = np.sum(points[:, 1])\n",
    "    sum_lat = np.sum(points[:, 0])\n",
    "    return (sum_lon/n, sum_lat/n)"
   ]
  },
  {
   "cell_type": "code",
   "execution_count": 5,
   "metadata": {
    "collapsed": false
   },
   "outputs": [],
   "source": [
    "# return the point from a set of points that is nearest to the specified point of reference\n",
    "def get_nearest_point(set_of_points, point_of_reference):\n",
    "    \n",
    "    closest_point = None\n",
    "    closest_dist = None\n",
    "    \n",
    "    for point in set_of_points:        \n",
    "        \n",
    "        # calculate the great circle distance between points            \n",
    "        point = (point[1], point[0])\n",
    "        dist = great_circle(point_of_reference, point).meters\n",
    "        \n",
    "        # if this row's nearest is currently null, save this point as its nearest\n",
    "        # or if this distance is smaller than the previous smallest, update the row\n",
    "        if (closest_dist is None) or (dist < closest_dist):\n",
    "            closest_point = point\n",
    "            closest_dist = dist\n",
    "    \n",
    "    return closest_point"
   ]
  },
  {
   "cell_type": "code",
   "execution_count": 6,
   "metadata": {
    "collapsed": false
   },
   "outputs": [
    {
     "name": "stdout",
     "output_type": "stream",
     "text": [
      "process took 0.03 seconds\n",
      "147 rows in the reduced data set\n"
     ]
    },
    {
     "data": {
      "text/html": [
       "<div>\n",
       "<table border=\"1\" class=\"dataframe\">\n",
       "  <thead>\n",
       "    <tr style=\"text-align: right;\">\n",
       "      <th></th>\n",
       "      <th>lat</th>\n",
       "      <th>lon</th>\n",
       "    </tr>\n",
       "  </thead>\n",
       "  <tbody>\n",
       "    <tr>\n",
       "      <th>0</th>\n",
       "      <td>51.478199</td>\n",
       "      <td>-0.446081</td>\n",
       "    </tr>\n",
       "    <tr>\n",
       "      <th>1</th>\n",
       "      <td>38.781775</td>\n",
       "      <td>-9.137544</td>\n",
       "    </tr>\n",
       "    <tr>\n",
       "      <th>2</th>\n",
       "      <td>38.771939</td>\n",
       "      <td>-9.128911</td>\n",
       "    </tr>\n",
       "    <tr>\n",
       "      <th>3</th>\n",
       "      <td>38.742987</td>\n",
       "      <td>-9.147780</td>\n",
       "    </tr>\n",
       "    <tr>\n",
       "      <th>4</th>\n",
       "      <td>38.712325</td>\n",
       "      <td>-9.137434</td>\n",
       "    </tr>\n",
       "  </tbody>\n",
       "</table>\n",
       "</div>"
      ],
      "text/plain": [
       "         lat       lon\n",
       "0  51.478199 -0.446081\n",
       "1  38.781775 -9.137544\n",
       "2  38.771939 -9.128911\n",
       "3  38.742987 -9.147780\n",
       "4  38.712325 -9.137434"
      ]
     },
     "execution_count": 6,
     "metadata": {},
     "output_type": "execute_result"
    }
   ],
   "source": [
    "# now we take one point's coordinates from each cluster that formed\n",
    "# first, get the clusters\n",
    "start_time = time()\n",
    "clusters = pd.Series([coordinates[labels == i] for i in range(num_clusters)])\n",
    "\n",
    "lat = []\n",
    "lon = []\n",
    "\n",
    "# for each cluster, find one representative point from the data set\n",
    "for _, cluster in clusters.iteritems():\n",
    "    \n",
    "    if len(cluster) < 3:\n",
    "        # if there are only one or two points in the cluster,\n",
    "        # then just take the first coordinate pair that appears in the cluster's array\n",
    "        representative_point = (cluster[0][1], cluster[0][0])\n",
    "        \n",
    "    else:\n",
    "        # otherwise, find the point in the cluster that is closest to its centroid\n",
    "        representative_point = get_nearest_point(cluster, get_centroid(cluster))\n",
    "    \n",
    "    lat.append(representative_point[0])\n",
    "    lon.append(representative_point[1])\n",
    "\n",
    "cl = pd.DataFrame({'lon':lon, 'lat':lat})\n",
    "print('process took %s seconds' % round(time() - start_time, 2))\n",
    "print(len(cl), 'rows in the reduced data set')\n",
    "cl.head()"
   ]
  },
  {
   "cell_type": "code",
   "execution_count": 7,
   "metadata": {
    "collapsed": false
   },
   "outputs": [],
   "source": [
    "# return the rows from full_set that have matching 'lat' 'lon' coordinates in the simplified_set\n",
    "def get_matching_rows(full_set, simplified_set):\n",
    "    \n",
    "    start_time = time()\n",
    "\n",
    "    # fs_label will contain the label of the matching row from the full set\n",
    "    simplified_set['fs_label'] = None\n",
    "\n",
    "    # for each coordinate pair in the simplified set\n",
    "    for si_label, si_row in simplified_set.iterrows():\n",
    "\n",
    "        si_coords = (si_row['lat'], si_row['lon'])\n",
    "        # for each coordinate pair in the original full data set\n",
    "        for fs_label, fs_row in full_set.iterrows():\n",
    "\n",
    "            # compare tuples of coordinates, if the points match, save this row's label as the matching one\n",
    "            if si_coords == (fs_row['lat'], fs_row['lon']):\n",
    "                simplified_set.loc[si_label, 'fs_label'] = fs_label\n",
    "                break\n",
    "\n",
    "    # select the rows from the original full data set whose indices appear in fs_label column of the simplified set\n",
    "    result = full_set.loc[simplified_set['fs_label'].dropna().values]\n",
    "    print('process took %s seconds' % round(time() - start_time, 2))\n",
    "    return result"
   ]
  },
  {
   "cell_type": "code",
   "execution_count": 8,
   "metadata": {
    "collapsed": false
   },
   "outputs": [
    {
     "name": "stdout",
     "output_type": "stream",
     "text": [
      "process took 7.82 seconds\n"
     ]
    }
   ],
   "source": [
    "rs = get_matching_rows(df, cl)"
   ]
  },
  {
   "cell_type": "code",
   "execution_count": 9,
   "metadata": {
    "collapsed": false
   },
   "outputs": [
    {
     "name": "stdout",
     "output_type": "stream",
     "text": [
      "number of points: 147\n"
     ]
    },
    {
     "data": {
      "text/html": [
       "<div>\n",
       "<table border=\"1\" class=\"dataframe\">\n",
       "  <thead>\n",
       "    <tr style=\"text-align: right;\">\n",
       "      <th></th>\n",
       "      <th>lat</th>\n",
       "      <th>lon</th>\n",
       "      <th>date</th>\n",
       "      <th>city</th>\n",
       "      <th>country</th>\n",
       "    </tr>\n",
       "  </thead>\n",
       "  <tbody>\n",
       "    <tr>\n",
       "      <th>1656</th>\n",
       "      <td>37.933913</td>\n",
       "      <td>23.945805</td>\n",
       "      <td>07/06/2014 17:27</td>\n",
       "      <td>Attica</td>\n",
       "      <td>Greece</td>\n",
       "    </tr>\n",
       "    <tr>\n",
       "      <th>1662</th>\n",
       "      <td>40.980462</td>\n",
       "      <td>28.820527</td>\n",
       "      <td>07/06/2014 21:27</td>\n",
       "      <td>Istanbul</td>\n",
       "      <td>Turkey</td>\n",
       "    </tr>\n",
       "    <tr>\n",
       "      <th>1695</th>\n",
       "      <td>41.014963</td>\n",
       "      <td>29.010762</td>\n",
       "      <td>07/07/2014 16:56</td>\n",
       "      <td>Istanbul</td>\n",
       "      <td>Turkey</td>\n",
       "    </tr>\n",
       "    <tr>\n",
       "      <th>1726</th>\n",
       "      <td>41.033193</td>\n",
       "      <td>28.982041</td>\n",
       "      <td>07/08/2014 15:30</td>\n",
       "      <td>Istanbul</td>\n",
       "      <td>Turkey</td>\n",
       "    </tr>\n",
       "    <tr>\n",
       "      <th>1756</th>\n",
       "      <td>48.356285</td>\n",
       "      <td>11.791710</td>\n",
       "      <td>07/09/2014 13:17</td>\n",
       "      <td>Munich</td>\n",
       "      <td>Germany</td>\n",
       "    </tr>\n",
       "  </tbody>\n",
       "</table>\n",
       "</div>"
      ],
      "text/plain": [
       "            lat        lon              date      city  country\n",
       "1656  37.933913  23.945805  07/06/2014 17:27    Attica   Greece\n",
       "1662  40.980462  28.820527  07/06/2014 21:27  Istanbul   Turkey\n",
       "1695  41.014963  29.010762  07/07/2014 16:56  Istanbul   Turkey\n",
       "1726  41.033193  28.982041  07/08/2014 15:30  Istanbul   Turkey\n",
       "1756  48.356285  11.791710  07/09/2014 13:17    Munich  Germany"
      ]
     },
     "execution_count": 9,
     "metadata": {},
     "output_type": "execute_result"
    }
   ],
   "source": [
    "rs.sort_index(inplace=True)\n",
    "#rs.to_csv('data/summer-travel-gps-dbscan.csv', index=False)\n",
    "\n",
    "print('number of points:', len(rs))\n",
    "rs.tail()"
   ]
  },
  {
   "cell_type": "code",
   "execution_count": 10,
   "metadata": {
    "collapsed": false
   },
   "outputs": [
    {
     "data": {
      "image/png": "[encoded data removed]",
      "text/plain": [
       "<matplotlib.figure.Figure at 0x21ae8709710>"
      ]
     },
     "metadata": {},
     "output_type": "display_data"
    }
   ],
   "source": [
    "# plot the final reduced set of coordinate points vs the original full set\n",
    "plt.figure(figsize=(10, 6))\n",
    "rs_scatter = plt.scatter(rs['lon'], rs['lat'], c='g', alpha=.4, s=150)\n",
    "df_scatter = plt.scatter(df['lon'], df['lat'], c='k', alpha=.5, s=5)\n",
    "\n",
    "plt.title('Full data set vs DBSCAN reduced set')\n",
    "plt.legend((df_scatter, rs_scatter), ('Full set', 'Reduced set'), loc='upper left')\n",
    "plt.xlabel('Longitude')\n",
    "plt.ylabel('Latitude')\n",
    "\n",
    "plt.show()"
   ]
  },
  {
   "cell_type": "code",
   "execution_count": null,
   "metadata": {
    "collapsed": false
   },
   "outputs": [],
   "source": []
  }
 ],
 "metadata": {
  "kernelspec": {
   "display_name": "Python 3",
   "language": "python",
   "name": "python3"
  },
  "language_info": {
   "codemirror_mode": {
    "name": "ipython",
    "version": 3
   },
   "file_extension": ".py",
   "mimetype": "text/x-python",
   "name": "python",
   "nbconvert_exporter": "python",
   "pygments_lexer": "ipython3",
   "version": "3.5.1"
  }
 },
 "nbformat": 4,
 "nbformat_minor": 0
}
