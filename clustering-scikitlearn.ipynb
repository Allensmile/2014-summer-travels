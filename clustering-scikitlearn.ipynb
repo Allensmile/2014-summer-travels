{
 "metadata": {
  "name": "",
  "signature": "sha256:200b47aaa4b211c66bf3f98b6f2acd703ac6263560ba95ea7f84047c9227f4f7"
 },
 "nbformat": 3,
 "nbformat_minor": 0,
 "worksheets": [
  {
   "cells": [
    {
     "cell_type": "markdown",
     "metadata": {},
     "source": [
      "Author: Geoff Boeing\n",
      "<br />\n",
      "Web: http://geoffboeing.com\n",
      "<br />\n",
      "Date: 2014-08-31\n",
      "<br />\n",
      "Description: This notebook reduces the size of a spatial data set by clustering with DBSCAN. More info: http://geoffboeing.com/2014/08/visualizing-summer-travels/"
     ]
    },
    {
     "cell_type": "code",
     "collapsed": false,
     "input": [
      "# magic command to display matplotlib plots inline within the ipython notebook webpage\n",
      "%matplotlib inline\n",
      "\n",
      "# import necessary modules\n",
      "import pandas as pd, numpy as np, matplotlib.pyplot as plt\n",
      "from time import time\n",
      "from sklearn.cluster import DBSCAN\n",
      "from sklearn import metrics\n",
      "from geopy.distance import great_circle"
     ],
     "language": "python",
     "metadata": {},
     "outputs": [],
     "prompt_number": 1
    },
    {
     "cell_type": "code",
     "collapsed": false,
     "input": [
      "# load the data set\n",
      "df = pd.read_csv('data/summer-travel-gps-full.csv')\n",
      "coordinates = df.as_matrix(columns=['lon', 'lat'])\n",
      "df.head()"
     ],
     "language": "python",
     "metadata": {},
     "outputs": [
      {
       "html": [
        "<div style=\"max-height:1000px;max-width:1500px;overflow:auto;\">\n",
        "<table border=\"1\" class=\"dataframe\">\n",
        "  <thead>\n",
        "    <tr style=\"text-align: right;\">\n",
        "      <th></th>\n",
        "      <th>lat</th>\n",
        "      <th>lon</th>\n",
        "      <th>date</th>\n",
        "      <th>city</th>\n",
        "      <th>country</th>\n",
        "    </tr>\n",
        "  </thead>\n",
        "  <tbody>\n",
        "    <tr>\n",
        "      <th>0</th>\n",
        "      <td> 51.481292</td>\n",
        "      <td>-0.451011</td>\n",
        "      <td> 05/14/2014 09:07</td>\n",
        "      <td> West Drayton</td>\n",
        "      <td> United Kingdom</td>\n",
        "    </tr>\n",
        "    <tr>\n",
        "      <th>1</th>\n",
        "      <td> 51.474005</td>\n",
        "      <td>-0.450999</td>\n",
        "      <td> 05/14/2014 09:22</td>\n",
        "      <td>     Hounslow</td>\n",
        "      <td> United Kingdom</td>\n",
        "    </tr>\n",
        "    <tr>\n",
        "      <th>2</th>\n",
        "      <td> 51.478199</td>\n",
        "      <td>-0.446081</td>\n",
        "      <td> 05/14/2014 10:51</td>\n",
        "      <td>     Hounslow</td>\n",
        "      <td> United Kingdom</td>\n",
        "    </tr>\n",
        "    <tr>\n",
        "      <th>3</th>\n",
        "      <td> 51.478199</td>\n",
        "      <td>-0.446081</td>\n",
        "      <td> 05/14/2014 11:24</td>\n",
        "      <td>     Hounslow</td>\n",
        "      <td> United Kingdom</td>\n",
        "    </tr>\n",
        "    <tr>\n",
        "      <th>4</th>\n",
        "      <td> 51.474146</td>\n",
        "      <td>-0.451562</td>\n",
        "      <td> 05/14/2014 11:38</td>\n",
        "      <td>     Hounslow</td>\n",
        "      <td> United Kingdom</td>\n",
        "    </tr>\n",
        "  </tbody>\n",
        "</table>\n",
        "</div>"
       ],
       "metadata": {},
       "output_type": "pyout",
       "prompt_number": 2,
       "text": [
        "         lat       lon              date          city         country\n",
        "0  51.481292 -0.451011  05/14/2014 09:07  West Drayton  United Kingdom\n",
        "1  51.474005 -0.450999  05/14/2014 09:22      Hounslow  United Kingdom\n",
        "2  51.478199 -0.446081  05/14/2014 10:51      Hounslow  United Kingdom\n",
        "3  51.478199 -0.446081  05/14/2014 11:24      Hounslow  United Kingdom\n",
        "4  51.474146 -0.451562  05/14/2014 11:38      Hounslow  United Kingdom"
       ]
      }
     ],
     "prompt_number": 2
    },
    {
     "cell_type": "code",
     "collapsed": false,
     "input": [
      "# Compute DBSCAN\n",
      "# eps is the physical distance from each point that forms its \u03b5-neighborhood\n",
      "# min_samples is the min cluster size, otherwise it's noise - set to 1 so we get no noise\n",
      "start_time = time()\n",
      "db = DBSCAN(eps=.01, min_samples=1).fit(coordinates)\n",
      "labels = db.labels_\n",
      "\n",
      "# number of clusters in labels, ignoring noise if present\n",
      "num_clusters = len(set(labels)) - (1 if -1 in labels else 0)\n",
      "\n",
      "print('Estimated number of clusters: %d' % num_clusters)\n",
      "print(\"Silhouette Coefficient: %0.3f\" % metrics.silhouette_score(coordinates, labels))\n",
      "print 'process took %s seconds' % round(time() - start_time, 2)"
     ],
     "language": "python",
     "metadata": {},
     "outputs": [
      {
       "output_type": "stream",
       "stream": "stdout",
       "text": [
        "Estimated number of clusters: 158\n",
        "Silhouette Coefficient: 0.655"
       ]
      },
      {
       "output_type": "stream",
       "stream": "stdout",
       "text": [
        "\n",
        "process took 5.21 seconds\n"
       ]
      },
      {
       "output_type": "stream",
       "stream": "stderr",
       "text": [
        "C:\\Anaconda\\lib\\site-packages\\numpy\\core\\_methods.py:55: RuntimeWarning: Mean of empty slice.\n",
        "  warnings.warn(\"Mean of empty slice.\", RuntimeWarning)\n"
       ]
      }
     ],
     "prompt_number": 3
    },
    {
     "cell_type": "code",
     "collapsed": false,
     "input": [
      "def plotClusters():\n",
      "    core_samples_mask = np.zeros_like(db.labels_, dtype=bool)\n",
      "    core_samples_mask[db.core_sample_indices_] = True\n",
      "\n",
      "    # Black removed and is used for noise instead.\n",
      "    unique_labels = set(labels)\n",
      "    colors = plt.cm.Spectral(np.linspace(0, 1, len(unique_labels)))\n",
      "\n",
      "    # for each label (aka index) in the set of unique labels\n",
      "    for k, col in zip(unique_labels, colors):\n",
      "        if k == -1:\n",
      "            # Black used for noise.\n",
      "            col = 'k'\n",
      "\n",
      "        # boolean array as a mask for all labels that match the current one in the loop\n",
      "        class_member_mask = (labels == k)\n",
      "\n",
      "        # the xy point pairs from the original data set that match this cluster\n",
      "        xy = coordinates[class_member_mask & core_samples_mask]\n",
      "        plt.plot(xy[:, 0], xy[:, 1], 'o', markerfacecolor=col, markeredgecolor='k', markersize=14)\n",
      "\n",
      "        # and the inverse\n",
      "        xy = coordinates[class_member_mask & ~core_samples_mask]\n",
      "        plt.plot(xy[:, 0], xy[:, 1], 'o', markerfacecolor=col, markeredgecolor='k', markersize=6)\n",
      "\n",
      "    plt.title('Estimated number of clusters: %d' % n_clusters_)\n",
      "    plt.show()\n",
      "#plotClusters()"
     ],
     "language": "python",
     "metadata": {},
     "outputs": [],
     "prompt_number": 4
    },
    {
     "cell_type": "code",
     "collapsed": false,
     "input": [
      "# return the coordinates of the centroid of a numpy array of coordinate points\n",
      "def getCentroid(points):\n",
      "    n = points.shape[0]\n",
      "    sum_lon = np.sum(points[:, 1])\n",
      "    sum_lat = np.sum(points[:, 0])\n",
      "    return (sum_lon/n, sum_lat/n)"
     ],
     "language": "python",
     "metadata": {},
     "outputs": [],
     "prompt_number": 5
    },
    {
     "cell_type": "code",
     "collapsed": false,
     "input": [
      "# return the point from a set of points that is nearest to the specified point of reference\n",
      "def getNearestPoint(set_of_points, point_of_reference):\n",
      "    \n",
      "    closest_point = None\n",
      "    closest_dist = None\n",
      "    \n",
      "    for point in set_of_points:        \n",
      "        \n",
      "        # calculate the great circle distance between points            \n",
      "        point = (point[1], point[0])\n",
      "        dist = great_circle(point_of_reference, point).meters\n",
      "        \n",
      "        # if this row's nearest is currently null, save this point as its nearest\n",
      "        # or if this distance is smaller than the previous smallest, update the row\n",
      "        if (closest_dist is None) or (dist < closest_dist):\n",
      "            closest_point = point\n",
      "            closest_dist = dist\n",
      "    \n",
      "    return closest_point"
     ],
     "language": "python",
     "metadata": {},
     "outputs": [],
     "prompt_number": 6
    },
    {
     "cell_type": "code",
     "collapsed": false,
     "input": [
      "# now we take one point's coordinates from each cluster that formed\n",
      "# first, get the clusters\n",
      "start_time = time()\n",
      "clusters = pd.Series([coordinates[labels == i] for i in xrange(num_clusters)])\n",
      "\n",
      "lat = []\n",
      "lon = []\n",
      "\n",
      "# for each cluster, find one representative point from the data set\n",
      "for i, cluster in clusters.iteritems():\n",
      "    \n",
      "    if len(cluster) < 3:\n",
      "        # if there are only one or two points in the cluster,\n",
      "        # then just take the first coordinate pair that appears in the cluster's array\n",
      "        representative_point = (cluster[0][1], cluster[0][0])\n",
      "        \n",
      "    else:\n",
      "        # otherwise, find the point in the cluster that is closest to its centroid\n",
      "        representative_point = getNearestPoint(cluster, getCentroid(cluster))\n",
      "    \n",
      "    lat.append(representative_point[0])\n",
      "    lon.append(representative_point[1])\n",
      "\n",
      "cl = pd.DataFrame({'lon':lon, 'lat':lat})\n",
      "print 'process took %s seconds' % round(time() - start_time, 2)\n",
      "print len(cl), 'rows in the reduced data set'\n",
      "cl.head()"
     ],
     "language": "python",
     "metadata": {},
     "outputs": [
      {
       "output_type": "stream",
       "stream": "stdout",
       "text": [
        "process took 0.03 seconds\n",
        "158 rows in the reduced data set\n"
       ]
      },
      {
       "html": [
        "<div style=\"max-height:1000px;max-width:1500px;overflow:auto;\">\n",
        "<table border=\"1\" class=\"dataframe\">\n",
        "  <thead>\n",
        "    <tr style=\"text-align: right;\">\n",
        "      <th></th>\n",
        "      <th>lat</th>\n",
        "      <th>lon</th>\n",
        "    </tr>\n",
        "  </thead>\n",
        "  <tbody>\n",
        "    <tr>\n",
        "      <th>0</th>\n",
        "      <td> 41.381442</td>\n",
        "      <td>  2.159930</td>\n",
        "    </tr>\n",
        "    <tr>\n",
        "      <th>1</th>\n",
        "      <td> 50.074773</td>\n",
        "      <td> 14.444028</td>\n",
        "    </tr>\n",
        "    <tr>\n",
        "      <th>2</th>\n",
        "      <td> 49.698620</td>\n",
        "      <td> 13.423220</td>\n",
        "    </tr>\n",
        "    <tr>\n",
        "      <th>3</th>\n",
        "      <td> 48.521902</td>\n",
        "      <td>  9.055122</td>\n",
        "    </tr>\n",
        "    <tr>\n",
        "      <th>4</th>\n",
        "      <td> 38.793071</td>\n",
        "      <td> -9.285825</td>\n",
        "    </tr>\n",
        "  </tbody>\n",
        "</table>\n",
        "</div>"
       ],
       "metadata": {},
       "output_type": "pyout",
       "prompt_number": 7,
       "text": [
        "         lat        lon\n",
        "0  41.381442   2.159930\n",
        "1  50.074773  14.444028\n",
        "2  49.698620  13.423220\n",
        "3  48.521902   9.055122\n",
        "4  38.793071  -9.285825"
       ]
      }
     ],
     "prompt_number": 7
    },
    {
     "cell_type": "code",
     "collapsed": false,
     "input": [
      "# return the rows from full_set that have matching 'lat' 'lon' coordinates in the simplified_set\n",
      "def getMatchingRows(full_set, simplified_set):\n",
      "    \n",
      "    start_time = time()\n",
      "    simplified_set['fs_index'] = None\n",
      "\n",
      "    # fs_index will contain the index of the matching row from the full set\n",
      "    simplified_set['fs_index'] = None\n",
      "\n",
      "    # for each coordinate pair in the simplified set\n",
      "    for si_i, si_row in simplified_set.iterrows():\n",
      "\n",
      "        si_coords = (si_row['lat'], si_row['lon'])\n",
      "        # for each coordinate pair in the original full data set\n",
      "        for fs_i, fs_row in full_set.iterrows():\n",
      "\n",
      "            # compare tuples of coordinates, if the points match, save this row's index as the matching one\n",
      "            if si_coords == (fs_row['lat'], fs_row['lon']):\n",
      "                simplified_set['fs_index'][si_i] = fs_i\n",
      "                break\n",
      "\n",
      "    # select the rows from the original full data set whose indices appear in fs_index column of the simplified set\n",
      "    result = full_set.ix[simplified_set['fs_index'].dropna()]\n",
      "    print 'process took %s seconds' % round(time() - start_time, 2)\n",
      "    return result"
     ],
     "language": "python",
     "metadata": {},
     "outputs": [],
     "prompt_number": 8
    },
    {
     "cell_type": "code",
     "collapsed": false,
     "input": [
      "rs = getMatchingRows(df, cl)"
     ],
     "language": "python",
     "metadata": {},
     "outputs": [
      {
       "output_type": "stream",
       "stream": "stdout",
       "text": [
        "process took 6.58 seconds\n"
       ]
      }
     ],
     "prompt_number": 9
    },
    {
     "cell_type": "code",
     "collapsed": false,
     "input": [
      "rs.sort(inplace=True)\n",
      "#rs.to_csv('data/summer-travel-gps-dbscan.csv', index=False)\n",
      "\n",
      "print 'number of points:', len(rs.index)\n",
      "rs.tail()"
     ],
     "language": "python",
     "metadata": {},
     "outputs": [
      {
       "output_type": "stream",
       "stream": "stdout",
       "text": [
        "number of points: 158\n"
       ]
      },
      {
       "html": [
        "<div style=\"max-height:1000px;max-width:1500px;overflow:auto;\">\n",
        "<table border=\"1\" class=\"dataframe\">\n",
        "  <thead>\n",
        "    <tr style=\"text-align: right;\">\n",
        "      <th></th>\n",
        "      <th>lat</th>\n",
        "      <th>lon</th>\n",
        "      <th>date</th>\n",
        "      <th>city</th>\n",
        "      <th>country</th>\n",
        "    </tr>\n",
        "  </thead>\n",
        "  <tbody>\n",
        "    <tr>\n",
        "      <th>1663</th>\n",
        "      <td> 40.984723</td>\n",
        "      <td> 28.831658</td>\n",
        "      <td> 07/06/2014 21:43</td>\n",
        "      <td> Istanbul</td>\n",
        "      <td>  Turkey</td>\n",
        "    </tr>\n",
        "    <tr>\n",
        "      <th>1664</th>\n",
        "      <td> 41.001629</td>\n",
        "      <td> 28.949191</td>\n",
        "      <td> 07/06/2014 21:58</td>\n",
        "      <td> Istanbul</td>\n",
        "      <td>  Turkey</td>\n",
        "    </tr>\n",
        "    <tr>\n",
        "      <th>1695</th>\n",
        "      <td> 41.014963</td>\n",
        "      <td> 29.010762</td>\n",
        "      <td> 07/07/2014 16:56</td>\n",
        "      <td> Istanbul</td>\n",
        "      <td>  Turkey</td>\n",
        "    </tr>\n",
        "    <tr>\n",
        "      <th>1726</th>\n",
        "      <td> 41.033193</td>\n",
        "      <td> 28.982041</td>\n",
        "      <td> 07/08/2014 15:30</td>\n",
        "      <td> Istanbul</td>\n",
        "      <td>  Turkey</td>\n",
        "    </tr>\n",
        "    <tr>\n",
        "      <th>1756</th>\n",
        "      <td> 48.356285</td>\n",
        "      <td> 11.791710</td>\n",
        "      <td> 07/09/2014 13:17</td>\n",
        "      <td>   Munich</td>\n",
        "      <td> Germany</td>\n",
        "    </tr>\n",
        "  </tbody>\n",
        "</table>\n",
        "</div>"
       ],
       "metadata": {},
       "output_type": "pyout",
       "prompt_number": 10,
       "text": [
        "            lat        lon              date      city  country\n",
        "1663  40.984723  28.831658  07/06/2014 21:43  Istanbul   Turkey\n",
        "1664  41.001629  28.949191  07/06/2014 21:58  Istanbul   Turkey\n",
        "1695  41.014963  29.010762  07/07/2014 16:56  Istanbul   Turkey\n",
        "1726  41.033193  28.982041  07/08/2014 15:30  Istanbul   Turkey\n",
        "1756  48.356285  11.791710  07/09/2014 13:17    Munich  Germany"
       ]
      }
     ],
     "prompt_number": 10
    },
    {
     "cell_type": "code",
     "collapsed": false,
     "input": [
      "# plot the final reduced set of coordinate points vs the original full set\n",
      "plt.figure(figsize=(10, 6), dpi=100)\n",
      "rs_scatter = plt.scatter(rs['lon'], rs['lat'], c='g', alpha=.4, s=150)\n",
      "df_scatter = plt.scatter(df['lon'], df['lat'], c='k', alpha=.5, s=5)\n",
      "\n",
      "plt.title('Full data set vs DBSCAN reduced set')\n",
      "plt.legend((df_scatter, rs_scatter), ('Full set', 'Reduced set'), loc='upper left')\n",
      "plt.xlabel('Longitude')\n",
      "plt.ylabel('Latitude')\n",
      "\n",
      "plt.show()"
     ],
     "language": "python",
     "metadata": {},
     "outputs": [
      {
       "metadata": {},
       "output_type": "display_data",
       "png": "[encoded data removed]",
       "text": [
        "<matplotlib.figure.Figure at 0xcb67bf0>"
       ]
      }
     ],
     "prompt_number": 11
    },
    {
     "cell_type": "code",
     "collapsed": false,
     "input": [],
     "language": "python",
     "metadata": {},
     "outputs": [],
     "prompt_number": 11
    }
   ],
   "metadata": {}
  }
 ]
}