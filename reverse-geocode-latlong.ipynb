{
 "cells": [
  {
   "cell_type": "markdown",
   "metadata": {},
   "source": [
    "Author: Geoff Boeing\n",
    "<br />\n",
    "Web: http://geoffboeing.com\n",
    "<br />\n",
    "Date: 2014-08-31\n",
    "<br />\n",
    "Description: This notebook reverse geocodes a lat-long data set to city + country. More info: http://geoffboeing.com/2014/08/visualizing-summer-travels/"
   ]
  },
  {
   "cell_type": "code",
   "execution_count": 2,
   "metadata": {
    "collapsed": false
   },
   "outputs": [],
   "source": [
    "# magic command to display matplotlib plots inline within the ipython notebook\n",
    "%matplotlib inline\n",
    "\n",
    "# import necessary modules\n",
    "import pandas as pd\n",
    "import json, requests, logging"
   ]
  },
  {
   "cell_type": "code",
   "execution_count": 3,
   "metadata": {
    "collapsed": false
   },
   "outputs": [],
   "source": [
    "# configure logging for our tool\n",
    "lfh = logging.FileHandler('logs/reverseGeocoder.log')\n",
    "lfh.setFormatter(logging.Formatter('%(levelname)s %(asctime)s %(message)s'))\n",
    "log = logging.getLogger('reverseGeocoder')\n",
    "log.setLevel(logging.INFO)\n",
    "log.addHandler(lfh)"
   ]
  },
  {
   "cell_type": "code",
   "execution_count": 4,
   "metadata": {
    "collapsed": false
   },
   "outputs": [
    {
     "data": {
      "text/html": [
       "<div style=\"max-height:1000px;max-width:1500px;overflow:auto;\">\n",
       "<table border=\"1\" class=\"dataframe\">\n",
       "  <thead>\n",
       "    <tr style=\"text-align: right;\">\n",
       "      <th></th>\n",
       "      <th>lat</th>\n",
       "      <th>lon</th>\n",
       "      <th>date</th>\n",
       "      <th>geocode_data</th>\n",
       "      <th>city</th>\n",
       "      <th>country</th>\n",
       "    </tr>\n",
       "  </thead>\n",
       "  <tbody>\n",
       "    <tr>\n",
       "      <th>0</th>\n",
       "      <td> 51.481292</td>\n",
       "      <td>-0.451011</td>\n",
       "      <td> 05/14/2014 09:07</td>\n",
       "      <td> </td>\n",
       "      <td> </td>\n",
       "      <td> </td>\n",
       "    </tr>\n",
       "    <tr>\n",
       "      <th>1</th>\n",
       "      <td> 51.474005</td>\n",
       "      <td>-0.450999</td>\n",
       "      <td> 05/14/2014 09:22</td>\n",
       "      <td> </td>\n",
       "      <td> </td>\n",
       "      <td> </td>\n",
       "    </tr>\n",
       "    <tr>\n",
       "      <th>2</th>\n",
       "      <td> 51.478199</td>\n",
       "      <td>-0.446081</td>\n",
       "      <td> 05/14/2014 10:51</td>\n",
       "      <td> </td>\n",
       "      <td> </td>\n",
       "      <td> </td>\n",
       "    </tr>\n",
       "    <tr>\n",
       "      <th>3</th>\n",
       "      <td> 51.478199</td>\n",
       "      <td>-0.446081</td>\n",
       "      <td> 05/14/2014 11:24</td>\n",
       "      <td> </td>\n",
       "      <td> </td>\n",
       "      <td> </td>\n",
       "    </tr>\n",
       "    <tr>\n",
       "      <th>4</th>\n",
       "      <td> 51.474146</td>\n",
       "      <td>-0.451562</td>\n",
       "      <td> 05/14/2014 11:38</td>\n",
       "      <td> </td>\n",
       "      <td> </td>\n",
       "      <td> </td>\n",
       "    </tr>\n",
       "  </tbody>\n",
       "</table>\n",
       "</div>"
      ],
      "text/plain": [
       "         lat       lon              date geocode_data city country\n",
       "0  51.481292 -0.451011  05/14/2014 09:07                          \n",
       "1  51.474005 -0.450999  05/14/2014 09:22                          \n",
       "2  51.478199 -0.446081  05/14/2014 10:51                          \n",
       "3  51.478199 -0.446081  05/14/2014 11:24                          \n",
       "4  51.474146 -0.451562  05/14/2014 11:38                          "
      ]
     },
     "execution_count": 4,
     "metadata": {},
     "output_type": "execute_result"
    }
   ],
   "source": [
    "# load the gps coordinate data\n",
    "df = pd.read_csv('data/summer-travel-gps-no-city-country.csv')\n",
    "\n",
    "# create new columns\n",
    "df['geocode_data'] = ''\n",
    "df['city'] = ''\n",
    "df['country'] = ''\n",
    "\n",
    "df.head()"
   ]
  },
  {
   "cell_type": "code",
   "execution_count": 5,
   "metadata": {
    "collapsed": false
   },
   "outputs": [],
   "source": [
    "# function that handles the geocoding requests\n",
    "def reverseGeocode(latlng):\n",
    "    \n",
    "    result = {}\n",
    "    url = 'https://maps.googleapis.com/maps/api/geocode/json?latlng={0}&key={1}'\n",
    "    apikey = 'YOUR-API-KEY-HERE'\n",
    "    \n",
    "    request = url.format(latlng, apikey)\n",
    "    log.info(request)\n",
    "    data = json.loads(requests.get(request).text)\n",
    "    #log.info(data)\n",
    "    if len(data['results']) > 0:\n",
    "        result = data['results'][0]\n",
    "\n",
    "    return result"
   ]
  },
  {
   "cell_type": "code",
   "execution_count": null,
   "metadata": {
    "collapsed": false
   },
   "outputs": [],
   "source": [
    "# comment out the following line of code to geocode the entire dataframe\n",
    "df = df.head()\n",
    "\n",
    "for i, row in df.iterrows():\n",
    "    # for each row in the dataframe, geocode the lat-long data\n",
    "    df['geocode_data'][i] = reverseGeocode(df['lat'][i].astype(str) + ',' + df['lon'][i].astype(str))\n",
    "    \n",
    "    # once every 100 loops print a counter\n",
    "    if i % 100 == 0: \n",
    "        print i,\n",
    "        \n",
    "df.head()"
   ]
  },
  {
   "cell_type": "code",
   "execution_count": 7,
   "metadata": {
    "collapsed": false
   },
   "outputs": [
    {
     "data": {
      "text/html": [
       "<div style=\"max-height:1000px;max-width:1500px;overflow:auto;\">\n",
       "<table border=\"1\" class=\"dataframe\">\n",
       "  <thead>\n",
       "    <tr style=\"text-align: right;\">\n",
       "      <th></th>\n",
       "      <th>lat</th>\n",
       "      <th>lon</th>\n",
       "      <th>date</th>\n",
       "      <th>geocode_data</th>\n",
       "      <th>city</th>\n",
       "      <th>country</th>\n",
       "    </tr>\n",
       "  </thead>\n",
       "  <tbody>\n",
       "    <tr>\n",
       "      <th>0</th>\n",
       "      <td> 51.481292</td>\n",
       "      <td>-0.451011</td>\n",
       "      <td> 05/14/2014 09:07</td>\n",
       "      <td> {u'geometry': {u'location': {u'lat': 51.481069...</td>\n",
       "      <td> Heathrow</td>\n",
       "      <td> United Kingdom</td>\n",
       "    </tr>\n",
       "    <tr>\n",
       "      <th>1</th>\n",
       "      <td> 51.474005</td>\n",
       "      <td>-0.450999</td>\n",
       "      <td> 05/14/2014 09:22</td>\n",
       "      <td> {u'geometry': {u'location_type': u'APPROXIMATE...</td>\n",
       "      <td> Hounslow</td>\n",
       "      <td> United Kingdom</td>\n",
       "    </tr>\n",
       "    <tr>\n",
       "      <th>2</th>\n",
       "      <td> 51.478199</td>\n",
       "      <td>-0.446081</td>\n",
       "      <td> 05/14/2014 10:51</td>\n",
       "      <td> {u'geometry': {u'location_type': u'APPROXIMATE...</td>\n",
       "      <td> Hounslow</td>\n",
       "      <td> United Kingdom</td>\n",
       "    </tr>\n",
       "    <tr>\n",
       "      <th>3</th>\n",
       "      <td> 51.478199</td>\n",
       "      <td>-0.446081</td>\n",
       "      <td> 05/14/2014 11:24</td>\n",
       "      <td> {u'geometry': {u'location_type': u'APPROXIMATE...</td>\n",
       "      <td> Hounslow</td>\n",
       "      <td> United Kingdom</td>\n",
       "    </tr>\n",
       "    <tr>\n",
       "      <th>4</th>\n",
       "      <td> 51.474146</td>\n",
       "      <td>-0.451562</td>\n",
       "      <td> 05/14/2014 11:38</td>\n",
       "      <td> {u'geometry': {u'location_type': u'APPROXIMATE...</td>\n",
       "      <td> Hounslow</td>\n",
       "      <td> United Kingdom</td>\n",
       "    </tr>\n",
       "  </tbody>\n",
       "</table>\n",
       "</div>"
      ],
      "text/plain": [
       "         lat       lon              date  \\\n",
       "0  51.481292 -0.451011  05/14/2014 09:07   \n",
       "1  51.474005 -0.450999  05/14/2014 09:22   \n",
       "2  51.478199 -0.446081  05/14/2014 10:51   \n",
       "3  51.478199 -0.446081  05/14/2014 11:24   \n",
       "4  51.474146 -0.451562  05/14/2014 11:38   \n",
       "\n",
       "                                        geocode_data      city         country  \n",
       "0  {u'geometry': {u'location': {u'lat': 51.481069...  Heathrow  United Kingdom  \n",
       "1  {u'geometry': {u'location_type': u'APPROXIMATE...  Hounslow  United Kingdom  \n",
       "2  {u'geometry': {u'location_type': u'APPROXIMATE...  Hounslow  United Kingdom  \n",
       "3  {u'geometry': {u'location_type': u'APPROXIMATE...  Hounslow  United Kingdom  \n",
       "4  {u'geometry': {u'location_type': u'APPROXIMATE...  Hounslow  United Kingdom  "
      ]
     },
     "execution_count": 7,
     "metadata": {},
     "output_type": "execute_result"
    }
   ],
   "source": [
    "# identify municipality and country data in the blob that google sent back\n",
    "for i, row in df.iterrows():\n",
    "    if 'address_components' in row['geocode_data']:\n",
    "        \n",
    "        # first try to identify the country\n",
    "        for component in row['geocode_data']['address_components']:\n",
    "            if 'country' in component['types']:\n",
    "                df['country'][i] = component['long_name']\n",
    "        \n",
    "        # now try to identify the municipality\n",
    "        for component in row['geocode_data']['address_components']:\n",
    "            if 'locality' in component['types']:\n",
    "                df['city'][i] = component['long_name']\n",
    "                break\n",
    "            elif 'postal_town' in component['types']:\n",
    "                df['city'][i] = component['long_name']\n",
    "                break\n",
    "            elif 'administrative_area_level_2' in component['types']:\n",
    "                df['city'][i] = component['long_name']\n",
    "                break\n",
    "            elif 'administrative_area_level_1' in component['types']:\n",
    "                df['city'][i] = component['long_name']\n",
    "                break\n",
    "\n",
    "df.head()"
   ]
  },
  {
   "cell_type": "code",
   "execution_count": 8,
   "metadata": {
    "collapsed": false
   },
   "outputs": [],
   "source": [
    "# google's geocoder fails on anything in kosovo, so do those manually now\n",
    "df.loc[df['country']=='', 'country'] = 'Kosovo'\n",
    "df.loc[df['city']=='', 'city'] = 'Prizren'"
   ]
  },
  {
   "cell_type": "code",
   "execution_count": 9,
   "metadata": {
    "collapsed": false
   },
   "outputs": [],
   "source": [
    "# save our reverse-geocoded data set\n",
    "#df.to_csv('data/summer-travel-gps-full.csv', encoding='utf-8', index=False)"
   ]
  },
  {
   "cell_type": "code",
   "execution_count": 9,
   "metadata": {
    "collapsed": false
   },
   "outputs": [],
   "source": []
  }
 ],
 "metadata": {
  "kernelspec": {
   "display_name": "Python 2",
   "language": "python",
   "name": "python2"
  },
  "language_info": {
   "codemirror_mode": {
    "name": "ipython",
    "version": 2
   },
   "file_extension": ".py",
   "mimetype": "text/x-python",
   "name": "python",
   "nbconvert_exporter": "python",
   "pygments_lexer": "ipython2",
   "version": "2.7.10"
  }
 },
 "nbformat": 4,
 "nbformat_minor": 0
}
