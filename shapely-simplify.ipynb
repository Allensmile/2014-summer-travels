{
 "cells": [
  {
   "cell_type": "markdown",
   "metadata": {},
   "source": [
    "Author: Geoff Boeing\n",
    "\n",
    "Web: http://geoffboeing.com/\n",
    "\n",
    "This notebook uses shapely's implementation of the douglas-peucker algorithm to reduce the size of a spatial data set. The full data set consists of 1,759 lat-long coordinate points. More info: http://geoffboeing.com/2014/08/visualizing-summer-travels/"
   ]
  },
  {
   "cell_type": "code",
   "execution_count": 1,
   "metadata": {
    "collapsed": false
   },
   "outputs": [],
   "source": [
    "# magic command to display matplotlib plots inline within the ipython notebook webpage\n",
    "%matplotlib inline\n",
    "\n",
    "# import necessary modules\n",
    "import pandas as pd, numpy as np, matplotlib.pyplot as plt\n",
    "from shapely.geometry import LineString\n",
    "from time import time"
   ]
  },
  {
   "cell_type": "code",
   "execution_count": 2,
   "metadata": {
    "collapsed": false
   },
   "outputs": [],
   "source": [
    "# load the point data\n",
    "df = pd.read_csv('data/summer-travel-gps-full.csv')\n",
    "coordinates = df.as_matrix(columns=['lat', 'lon'])"
   ]
  },
  {
   "cell_type": "code",
   "execution_count": 3,
   "metadata": {
    "collapsed": false
   },
   "outputs": [
    {
     "name": "stdout",
     "output_type": "stream",
     "text": [
      "146.334538996 line length\n",
      "143.926116262 simplified line length\n",
      "1759 coordinate pairs in full data set\n",
      "178 coordinate pairs in simplified data set\n",
      "89.9 percent compressed\n"
     ]
    }
   ],
   "source": [
    "# create a shapely line from the point data\n",
    "line = LineString(coordinates)\n",
    "\n",
    "# all points in the simplified object will be within the tolerance distance of the original geometry\n",
    "tolerance = 0.015\n",
    "\n",
    "# if preserve topology is set to False the much quicker Douglas-Peucker algorithm is used\n",
    "# we don't need to preserve topology bc we just need a set of points, not the relationship between them\n",
    "simplified_line = line.simplify(tolerance, preserve_topology=False)\n",
    "\n",
    "print line.length, 'line length'\n",
    "print simplified_line.length, 'simplified line length'\n",
    "print len(line.coords), 'coordinate pairs in full data set'\n",
    "print len(simplified_line.coords), 'coordinate pairs in simplified data set'\n",
    "print round(((1 - float(len(simplified_line.coords)) / float(len(line.coords))) * 100), 1), 'percent compressed'"
   ]
  },
  {
   "cell_type": "code",
   "execution_count": 4,
   "metadata": {
    "collapsed": false
   },
   "outputs": [
    {
     "data": {
      "text/html": [
       "<div>\n",
       "<table border=\"1\" class=\"dataframe\">\n",
       "  <thead>\n",
       "    <tr style=\"text-align: right;\">\n",
       "      <th></th>\n",
       "      <th>lat</th>\n",
       "      <th>lon</th>\n",
       "    </tr>\n",
       "  </thead>\n",
       "  <tbody>\n",
       "    <tr>\n",
       "      <th>173</th>\n",
       "      <td>41.044556</td>\n",
       "      <td>28.983285</td>\n",
       "    </tr>\n",
       "    <tr>\n",
       "      <th>174</th>\n",
       "      <td>41.008992</td>\n",
       "      <td>28.968268</td>\n",
       "    </tr>\n",
       "    <tr>\n",
       "      <th>175</th>\n",
       "      <td>41.043487</td>\n",
       "      <td>28.985488</td>\n",
       "    </tr>\n",
       "    <tr>\n",
       "      <th>176</th>\n",
       "      <td>40.977637</td>\n",
       "      <td>28.823879</td>\n",
       "    </tr>\n",
       "    <tr>\n",
       "      <th>177</th>\n",
       "      <td>48.357110</td>\n",
       "      <td>11.791346</td>\n",
       "    </tr>\n",
       "  </tbody>\n",
       "</table>\n",
       "</div>"
      ],
      "text/plain": [
       "           lat        lon\n",
       "173  41.044556  28.983285\n",
       "174  41.008992  28.968268\n",
       "175  41.043487  28.985488\n",
       "176  40.977637  28.823879\n",
       "177  48.357110  11.791346"
      ]
     },
     "execution_count": 4,
     "metadata": {},
     "output_type": "execute_result"
    }
   ],
   "source": [
    "# save the simplified set of coordinates as a new dataframe\n",
    "lon = pd.Series(pd.Series(simplified_line.coords.xy)[1])\n",
    "lat = pd.Series(pd.Series(simplified_line.coords.xy)[0])\n",
    "si = pd.DataFrame({'lon':lon, 'lat':lat})\n",
    "si.tail()"
   ]
  },
  {
   "cell_type": "code",
   "execution_count": 5,
   "metadata": {
    "collapsed": false
   },
   "outputs": [
    {
     "name": "stdout",
     "output_type": "stream",
     "text": [
      "process took 10.37 seconds\n"
     ]
    }
   ],
   "source": [
    "start_time = time()\n",
    "\n",
    "# df_index will contain the index of the matching row from the original full data set\n",
    "si['df_index'] = None\n",
    "\n",
    "# for each coordinate pair in the simplified set\n",
    "for si_i, si_row in si.iterrows():\n",
    "    \n",
    "    si_coords = (si_row['lat'], si_row['lon'])\n",
    "    # for each coordinate pair in the original full data set\n",
    "    for df_i, df_row in df.iterrows():\n",
    "        \n",
    "        # compare tuples of coordinates, if the points match, save this row's index as the matching one\n",
    "        if si_coords == (df_row['lat'], df_row['lon']):\n",
    "            si.loc[si_i, 'df_index'] = df_i\n",
    "            break\n",
    "            \n",
    "print 'process took %s seconds' % round(time() - start_time, 2)"
   ]
  },
  {
   "cell_type": "code",
   "execution_count": 6,
   "metadata": {
    "collapsed": false
   },
   "outputs": [
    {
     "data": {
      "text/html": [
       "<div>\n",
       "<table border=\"1\" class=\"dataframe\">\n",
       "  <thead>\n",
       "    <tr style=\"text-align: right;\">\n",
       "      <th></th>\n",
       "      <th>lat</th>\n",
       "      <th>lon</th>\n",
       "      <th>df_index</th>\n",
       "    </tr>\n",
       "  </thead>\n",
       "  <tbody>\n",
       "    <tr>\n",
       "      <th>173</th>\n",
       "      <td>41.044556</td>\n",
       "      <td>28.983285</td>\n",
       "      <td>1730</td>\n",
       "    </tr>\n",
       "    <tr>\n",
       "      <th>174</th>\n",
       "      <td>41.008992</td>\n",
       "      <td>28.968268</td>\n",
       "      <td>1739</td>\n",
       "    </tr>\n",
       "    <tr>\n",
       "      <th>175</th>\n",
       "      <td>41.043487</td>\n",
       "      <td>28.985488</td>\n",
       "      <td>1745</td>\n",
       "    </tr>\n",
       "    <tr>\n",
       "      <th>176</th>\n",
       "      <td>40.977637</td>\n",
       "      <td>28.823879</td>\n",
       "      <td>1751</td>\n",
       "    </tr>\n",
       "    <tr>\n",
       "      <th>177</th>\n",
       "      <td>48.357110</td>\n",
       "      <td>11.791346</td>\n",
       "      <td>1758</td>\n",
       "    </tr>\n",
       "  </tbody>\n",
       "</table>\n",
       "</div>"
      ],
      "text/plain": [
       "           lat        lon df_index\n",
       "173  41.044556  28.983285     1730\n",
       "174  41.008992  28.968268     1739\n",
       "175  41.043487  28.985488     1745\n",
       "176  40.977637  28.823879     1751\n",
       "177  48.357110  11.791346     1758"
      ]
     },
     "execution_count": 6,
     "metadata": {},
     "output_type": "execute_result"
    }
   ],
   "source": [
    "si.tail()"
   ]
  },
  {
   "cell_type": "code",
   "execution_count": 7,
   "metadata": {
    "collapsed": false
   },
   "outputs": [
    {
     "data": {
      "text/html": [
       "<div>\n",
       "<table border=\"1\" class=\"dataframe\">\n",
       "  <thead>\n",
       "    <tr style=\"text-align: right;\">\n",
       "      <th></th>\n",
       "      <th>lat</th>\n",
       "      <th>lon</th>\n",
       "      <th>date</th>\n",
       "      <th>city</th>\n",
       "      <th>country</th>\n",
       "    </tr>\n",
       "  </thead>\n",
       "  <tbody>\n",
       "    <tr>\n",
       "      <th>1730</th>\n",
       "      <td>41.044556</td>\n",
       "      <td>28.983285</td>\n",
       "      <td>07/08/2014 16:44</td>\n",
       "      <td>Istanbul</td>\n",
       "      <td>Turkey</td>\n",
       "    </tr>\n",
       "    <tr>\n",
       "      <th>1739</th>\n",
       "      <td>41.008992</td>\n",
       "      <td>28.968268</td>\n",
       "      <td>07/08/2014 20:03</td>\n",
       "      <td>Istanbul</td>\n",
       "      <td>Turkey</td>\n",
       "    </tr>\n",
       "    <tr>\n",
       "      <th>1745</th>\n",
       "      <td>41.043487</td>\n",
       "      <td>28.985488</td>\n",
       "      <td>07/08/2014 22:18</td>\n",
       "      <td>Istanbul</td>\n",
       "      <td>Turkey</td>\n",
       "    </tr>\n",
       "    <tr>\n",
       "      <th>1751</th>\n",
       "      <td>40.977637</td>\n",
       "      <td>28.823879</td>\n",
       "      <td>07/09/2014 09:03</td>\n",
       "      <td>Istanbul</td>\n",
       "      <td>Turkey</td>\n",
       "    </tr>\n",
       "    <tr>\n",
       "      <th>1758</th>\n",
       "      <td>48.357110</td>\n",
       "      <td>11.791346</td>\n",
       "      <td>07/09/2014 13:20</td>\n",
       "      <td>Munich</td>\n",
       "      <td>Germany</td>\n",
       "    </tr>\n",
       "  </tbody>\n",
       "</table>\n",
       "</div>"
      ],
      "text/plain": [
       "            lat        lon              date      city  country\n",
       "1730  41.044556  28.983285  07/08/2014 16:44  Istanbul   Turkey\n",
       "1739  41.008992  28.968268  07/08/2014 20:03  Istanbul   Turkey\n",
       "1745  41.043487  28.985488  07/08/2014 22:18  Istanbul   Turkey\n",
       "1751  40.977637  28.823879  07/09/2014 09:03  Istanbul   Turkey\n",
       "1758  48.357110  11.791346  07/09/2014 13:20    Munich  Germany"
      ]
     },
     "execution_count": 7,
     "metadata": {},
     "output_type": "execute_result"
    }
   ],
   "source": [
    "# select the rows from the original full data set whose indices appear in the df_index\n",
    "# column of the simplified data set\n",
    "rs = df.ix[si['df_index'].dropna()]\n",
    "\n",
    "#rs.to_csv('data/summer-travel-gps-simplified.csv', index=False)\n",
    "rs.tail()"
   ]
  },
  {
   "cell_type": "code",
   "execution_count": 8,
   "metadata": {
    "collapsed": false
   },
   "outputs": [
    {
     "data": {
      "image/png": "[encoded data removed]",
      "text/plain": [
       "<matplotlib.figure.Figure at 0x862fdd8>"
      ]
     },
     "metadata": {},
     "output_type": "display_data"
    }
   ],
   "source": [
    "# plot the final simplified set of coordinate points vs the original full set\n",
    "plt.figure(figsize=(10, 6), dpi=100)\n",
    "rs_scatter = plt.scatter(rs['lon'], rs['lat'], c='m', alpha=.4, s=150)\n",
    "df_scatter = plt.scatter(df['lon'], df['lat'], c='k', alpha=.3, s=10)\n",
    "plt.xlabel('Longitude')\n",
    "plt.ylabel('Latitude')\n",
    "plt.title('Simplified set of coordinate points vs original full set')\n",
    "plt.legend((rs_scatter, df_scatter), ('Simplified', 'Original'), loc='upper left')\n",
    "plt.show()"
   ]
  },
  {
   "cell_type": "code",
   "execution_count": null,
   "metadata": {
    "collapsed": false
   },
   "outputs": [],
   "source": []
  }
 ],
 "metadata": {
  "kernelspec": {
   "display_name": "Python 2",
   "language": "python",
   "name": "python2"
  },
  "language_info": {
   "codemirror_mode": {
    "name": "ipython",
    "version": 2
   },
   "file_extension": ".py",
   "mimetype": "text/x-python",
   "name": "python",
   "nbconvert_exporter": "python",
   "pygments_lexer": "ipython2",
   "version": "2.7.11"
  }
 },
 "nbformat": 4,
 "nbformat_minor": 0
}
